{
  "nbformat": 4,
  "nbformat_minor": 0,
  "metadata": {
    "kernelspec": {
      "display_name": "Python 3",
      "language": "python",
      "name": "python3"
    },
    "language_info": {
      "codemirror_mode": {
        "name": "ipython",
        "version": 3
      },
      "file_extension": ".py",
      "mimetype": "text/x-python",
      "name": "python",
      "nbconvert_exporter": "python",
      "pygments_lexer": "ipython3",
      "version": "3.5.5"
    },
    "colab": {
      "name": "Cancer_or_not-Copy1.ipynb",
      "provenance": []
    }
  },
  "cells": [
    {
      "cell_type": "code",
      "metadata": {
        "id": "tR1grq1cruPG",
        "outputId": "4a83bd68-2eb4-495e-87f2-70ec19b8d437"
      },
      "source": [
        "import os\n",
        "os.getcwd()\n"
      ],
      "execution_count": null,
      "outputs": [
        {
          "output_type": "execute_result",
          "data": {
            "text/plain": [
              "'C:\\\\Users\\\\Idriss'"
            ]
          },
          "metadata": {
            "tags": []
          },
          "execution_count": 1
        }
      ]
    },
    {
      "cell_type": "code",
      "metadata": {
        "id": "2pjjgcZiruP9",
        "outputId": "e51e7e44-7e15-465e-f31a-109aff6c5d6d"
      },
      "source": [
        "\n",
        "os.getcwd()\n"
      ],
      "execution_count": null,
      "outputs": [
        {
          "output_type": "execute_result",
          "data": {
            "text/plain": [
              "'A:\\\\coding'"
            ]
          },
          "metadata": {
            "tags": []
          },
          "execution_count": 2
        }
      ]
    },
    {
      "cell_type": "code",
      "metadata": {
        "id": "36oaAN5GruQp"
      },
      "source": [
        "import pandas as pd \n",
        "import numpy as np\n",
        "import matplotlib.pyplot as plt\n",
        "import seaborn as sns"
      ],
      "execution_count": null,
      "outputs": []
    },
    {
      "cell_type": "code",
      "metadata": {
        "id": "DJKc8U1cruRJ"
      },
      "source": [
        "#import dataset\n",
        "df=pd.read_csv('dataR2.csv')"
      ],
      "execution_count": null,
      "outputs": []
    },
    {
      "cell_type": "code",
      "metadata": {
        "id": "fJ_C0-DcruRi",
        "outputId": "af07d198-edc8-463d-95d6-693c5f551c8a"
      },
      "source": [
        "df.head()"
      ],
      "execution_count": null,
      "outputs": [
        {
          "output_type": "execute_result",
          "data": {
            "text/html": [
              "<div>\n",
              "<style scoped>\n",
              "    .dataframe tbody tr th:only-of-type {\n",
              "        vertical-align: middle;\n",
              "    }\n",
              "\n",
              "    .dataframe tbody tr th {\n",
              "        vertical-align: top;\n",
              "    }\n",
              "\n",
              "    .dataframe thead th {\n",
              "        text-align: right;\n",
              "    }\n",
              "</style>\n",
              "<table border=\"1\" class=\"dataframe\">\n",
              "  <thead>\n",
              "    <tr style=\"text-align: right;\">\n",
              "      <th></th>\n",
              "      <th>Age</th>\n",
              "      <th>BMI</th>\n",
              "      <th>Glucose</th>\n",
              "      <th>Insulin</th>\n",
              "      <th>HOMA</th>\n",
              "      <th>Leptin</th>\n",
              "      <th>Adiponectin</th>\n",
              "      <th>Resistin</th>\n",
              "      <th>MCP.1</th>\n",
              "      <th>Classification</th>\n",
              "    </tr>\n",
              "  </thead>\n",
              "  <tbody>\n",
              "    <tr>\n",
              "      <th>0</th>\n",
              "      <td>48</td>\n",
              "      <td>23.500000</td>\n",
              "      <td>70</td>\n",
              "      <td>2.707</td>\n",
              "      <td>0.467409</td>\n",
              "      <td>8.8071</td>\n",
              "      <td>9.702400</td>\n",
              "      <td>7.99585</td>\n",
              "      <td>417.114</td>\n",
              "      <td>1</td>\n",
              "    </tr>\n",
              "    <tr>\n",
              "      <th>1</th>\n",
              "      <td>83</td>\n",
              "      <td>20.690495</td>\n",
              "      <td>92</td>\n",
              "      <td>3.115</td>\n",
              "      <td>0.706897</td>\n",
              "      <td>8.8438</td>\n",
              "      <td>5.429285</td>\n",
              "      <td>4.06405</td>\n",
              "      <td>468.786</td>\n",
              "      <td>1</td>\n",
              "    </tr>\n",
              "    <tr>\n",
              "      <th>2</th>\n",
              "      <td>82</td>\n",
              "      <td>23.124670</td>\n",
              "      <td>91</td>\n",
              "      <td>4.498</td>\n",
              "      <td>1.009651</td>\n",
              "      <td>17.9393</td>\n",
              "      <td>22.432040</td>\n",
              "      <td>9.27715</td>\n",
              "      <td>554.697</td>\n",
              "      <td>1</td>\n",
              "    </tr>\n",
              "    <tr>\n",
              "      <th>3</th>\n",
              "      <td>68</td>\n",
              "      <td>21.367521</td>\n",
              "      <td>77</td>\n",
              "      <td>3.226</td>\n",
              "      <td>0.612725</td>\n",
              "      <td>9.8827</td>\n",
              "      <td>7.169560</td>\n",
              "      <td>12.76600</td>\n",
              "      <td>928.220</td>\n",
              "      <td>1</td>\n",
              "    </tr>\n",
              "    <tr>\n",
              "      <th>4</th>\n",
              "      <td>86</td>\n",
              "      <td>21.111111</td>\n",
              "      <td>92</td>\n",
              "      <td>3.549</td>\n",
              "      <td>0.805386</td>\n",
              "      <td>6.6994</td>\n",
              "      <td>4.819240</td>\n",
              "      <td>10.57635</td>\n",
              "      <td>773.920</td>\n",
              "      <td>1</td>\n",
              "    </tr>\n",
              "  </tbody>\n",
              "</table>\n",
              "</div>"
            ],
            "text/plain": [
              "   Age        BMI  Glucose  Insulin      HOMA   Leptin  Adiponectin  Resistin  \\\n",
              "0   48  23.500000       70    2.707  0.467409   8.8071     9.702400   7.99585   \n",
              "1   83  20.690495       92    3.115  0.706897   8.8438     5.429285   4.06405   \n",
              "2   82  23.124670       91    4.498  1.009651  17.9393    22.432040   9.27715   \n",
              "3   68  21.367521       77    3.226  0.612725   9.8827     7.169560  12.76600   \n",
              "4   86  21.111111       92    3.549  0.805386   6.6994     4.819240  10.57635   \n",
              "\n",
              "     MCP.1  Classification  \n",
              "0  417.114               1  \n",
              "1  468.786               1  \n",
              "2  554.697               1  \n",
              "3  928.220               1  \n",
              "4  773.920               1  "
            ]
          },
          "metadata": {
            "tags": []
          },
          "execution_count": 5
        }
      ]
    },
    {
      "cell_type": "code",
      "metadata": {
        "id": "1G0rFzMJruSF",
        "outputId": "ef2ac065-e686-4c60-90a6-f5198e8be89b"
      },
      "source": [
        "df.info()"
      ],
      "execution_count": null,
      "outputs": [
        {
          "output_type": "stream",
          "text": [
            "<class 'pandas.core.frame.DataFrame'>\n",
            "RangeIndex: 116 entries, 0 to 115\n",
            "Data columns (total 10 columns):\n",
            "Age               116 non-null int64\n",
            "BMI               116 non-null float64\n",
            "Glucose           116 non-null int64\n",
            "Insulin           116 non-null float64\n",
            "HOMA              116 non-null float64\n",
            "Leptin            116 non-null float64\n",
            "Adiponectin       116 non-null float64\n",
            "Resistin          116 non-null float64\n",
            "MCP.1             116 non-null float64\n",
            "Classification    116 non-null int64\n",
            "dtypes: float64(7), int64(3)\n",
            "memory usage: 9.1 KB\n"
          ],
          "name": "stdout"
        }
      ]
    },
    {
      "cell_type": "code",
      "metadata": {
        "id": "tOYRtE7_ruSr",
        "outputId": "097a2730-e80d-43d2-9f57-0f167bd1d638"
      },
      "source": [
        "df['Classification'].value_counts()"
      ],
      "execution_count": null,
      "outputs": [
        {
          "output_type": "execute_result",
          "data": {
            "text/plain": [
              "2    64\n",
              "1    52\n",
              "Name: Classification, dtype: int64"
            ]
          },
          "metadata": {
            "tags": []
          },
          "execution_count": 7
        }
      ]
    },
    {
      "cell_type": "code",
      "metadata": {
        "id": "lbB_mOsJruTH",
        "outputId": "acb19945-1d43-4abb-a132-f8e1a69d1e10"
      },
      "source": [
        "df.rename(columns={'Classification':'target'},inplace='true')\n",
        "\n",
        "        \n",
        "df.sample(5)"
      ],
      "execution_count": null,
      "outputs": [
        {
          "output_type": "execute_result",
          "data": {
            "text/html": [
              "<div>\n",
              "<style scoped>\n",
              "    .dataframe tbody tr th:only-of-type {\n",
              "        vertical-align: middle;\n",
              "    }\n",
              "\n",
              "    .dataframe tbody tr th {\n",
              "        vertical-align: top;\n",
              "    }\n",
              "\n",
              "    .dataframe thead th {\n",
              "        text-align: right;\n",
              "    }\n",
              "</style>\n",
              "<table border=\"1\" class=\"dataframe\">\n",
              "  <thead>\n",
              "    <tr style=\"text-align: right;\">\n",
              "      <th></th>\n",
              "      <th>Age</th>\n",
              "      <th>BMI</th>\n",
              "      <th>Glucose</th>\n",
              "      <th>Insulin</th>\n",
              "      <th>HOMA</th>\n",
              "      <th>Leptin</th>\n",
              "      <th>Adiponectin</th>\n",
              "      <th>Resistin</th>\n",
              "      <th>MCP.1</th>\n",
              "      <th>target</th>\n",
              "    </tr>\n",
              "  </thead>\n",
              "  <tbody>\n",
              "    <tr>\n",
              "      <th>9</th>\n",
              "      <td>75</td>\n",
              "      <td>23.000000</td>\n",
              "      <td>83</td>\n",
              "      <td>4.952</td>\n",
              "      <td>1.013839</td>\n",
              "      <td>17.1270</td>\n",
              "      <td>11.578990</td>\n",
              "      <td>7.09130</td>\n",
              "      <td>318.302</td>\n",
              "      <td>1</td>\n",
              "    </tr>\n",
              "    <tr>\n",
              "      <th>96</th>\n",
              "      <td>44</td>\n",
              "      <td>27.887617</td>\n",
              "      <td>99</td>\n",
              "      <td>9.208</td>\n",
              "      <td>2.248594</td>\n",
              "      <td>12.6757</td>\n",
              "      <td>5.478170</td>\n",
              "      <td>23.03306</td>\n",
              "      <td>407.206</td>\n",
              "      <td>2</td>\n",
              "    </tr>\n",
              "    <tr>\n",
              "      <th>79</th>\n",
              "      <td>41</td>\n",
              "      <td>26.672763</td>\n",
              "      <td>97</td>\n",
              "      <td>22.033</td>\n",
              "      <td>5.271762</td>\n",
              "      <td>44.7059</td>\n",
              "      <td>13.494865</td>\n",
              "      <td>27.83250</td>\n",
              "      <td>783.796</td>\n",
              "      <td>2</td>\n",
              "    </tr>\n",
              "    <tr>\n",
              "      <th>30</th>\n",
              "      <td>66</td>\n",
              "      <td>36.212279</td>\n",
              "      <td>101</td>\n",
              "      <td>15.533</td>\n",
              "      <td>3.869788</td>\n",
              "      <td>74.7069</td>\n",
              "      <td>7.539550</td>\n",
              "      <td>22.32024</td>\n",
              "      <td>864.968</td>\n",
              "      <td>1</td>\n",
              "    </tr>\n",
              "    <tr>\n",
              "      <th>37</th>\n",
              "      <td>69</td>\n",
              "      <td>35.092702</td>\n",
              "      <td>101</td>\n",
              "      <td>5.646</td>\n",
              "      <td>1.406607</td>\n",
              "      <td>83.4821</td>\n",
              "      <td>6.796985</td>\n",
              "      <td>82.10000</td>\n",
              "      <td>263.499</td>\n",
              "      <td>1</td>\n",
              "    </tr>\n",
              "  </tbody>\n",
              "</table>\n",
              "</div>"
            ],
            "text/plain": [
              "    Age        BMI  Glucose  Insulin      HOMA   Leptin  Adiponectin  \\\n",
              "9    75  23.000000       83    4.952  1.013839  17.1270    11.578990   \n",
              "96   44  27.887617       99    9.208  2.248594  12.6757     5.478170   \n",
              "79   41  26.672763       97   22.033  5.271762  44.7059    13.494865   \n",
              "30   66  36.212279      101   15.533  3.869788  74.7069     7.539550   \n",
              "37   69  35.092702      101    5.646  1.406607  83.4821     6.796985   \n",
              "\n",
              "    Resistin    MCP.1  target  \n",
              "9    7.09130  318.302       1  \n",
              "96  23.03306  407.206       2  \n",
              "79  27.83250  783.796       2  \n",
              "30  22.32024  864.968       1  \n",
              "37  82.10000  263.499       1  "
            ]
          },
          "metadata": {
            "tags": []
          },
          "execution_count": 8
        }
      ]
    },
    {
      "cell_type": "code",
      "metadata": {
        "id": "laJ_EuEtruTf"
      },
      "source": [
        "df.target =df.target-1"
      ],
      "execution_count": null,
      "outputs": []
    },
    {
      "cell_type": "code",
      "metadata": {
        "id": "QF1d0ncGruTt",
        "outputId": "8fbd1cfa-4175-4bdb-a00b-3e3f0c7e7cd2"
      },
      "source": [
        "df.sample(5)\n",
        "df.shape"
      ],
      "execution_count": null,
      "outputs": [
        {
          "output_type": "execute_result",
          "data": {
            "text/plain": [
              "(116, 10)"
            ]
          },
          "metadata": {
            "tags": []
          },
          "execution_count": 12
        }
      ]
    },
    {
      "cell_type": "code",
      "metadata": {
        "id": "V8lIuaL9ruT4",
        "outputId": "549b5900-a71b-4cc6-d17d-46b0c2ed79cc"
      },
      "source": [
        "\n",
        "df['target'].value_counts()\n",
        "# 1 if cancer, 0 else\n",
        "#64 cancer vs 52 no_cancer\n",
        "#df.dtypes"
      ],
      "execution_count": null,
      "outputs": [
        {
          "output_type": "execute_result",
          "data": {
            "text/plain": [
              "1    64\n",
              "0    52\n",
              "Name: target, dtype: int64"
            ]
          },
          "metadata": {
            "tags": []
          },
          "execution_count": 11
        }
      ]
    },
    {
      "cell_type": "code",
      "metadata": {
        "id": "SF9eHqJYruUE",
        "outputId": "a2d79f63-1f8d-4f37-ffbe-deb9258ad6c2"
      },
      "source": [
        "plt.figure(figsize=(10,10))\n",
        "sns.heatmap(df.corr(),annot=True,cmap='YlGnBu',fmt='.2f')\n"
      ],
      "execution_count": null,
      "outputs": [
        {
          "output_type": "execute_result",
          "data": {
            "text/plain": [
              "<matplotlib.axes._subplots.AxesSubplot at 0x205dba51390>"
            ]
          },
          "metadata": {
            "tags": []
          },
          "execution_count": 10
        },
        {
          "output_type": "display_data",
          "data": {
            "image/png": "[encoded data removed]",
            "text/plain": [
              "<Figure size 720x720 with 2 Axes>"
            ]
          },
          "metadata": {
            "tags": []
          }
        }
      ]
    },
    {
      "cell_type": "code",
      "metadata": {
        "id": "7aKewW5GruUP",
        "outputId": "27ab12af-e3f8-445b-a492-0a859bcc3ccb"
      },
      "source": [
        "\n",
        "#df['age_classes']\n",
        "fig,ax=plt.subplots(figsize=(24,6))\n",
        "plt.subplot(1, 3,1)\n",
        "sns.distplot(df['Age'],kde='true')\n",
        "plt.subplot(1,3,2)\n",
        "sns.distplot(df['BMI'],kde='true')\n",
        "plt.subplot(1,3,3)\n",
        "sns.distplot(df['Glucose'],kde='true')"
      ],
      "execution_count": null,
      "outputs": [
        {
          "output_type": "stream",
          "text": [
            "C:\\Users\\Idriss\\AppData\\Local\\Continuum\\anaconda3\\envs\\tensorflow\\lib\\site-packages\\scipy\\stats\\stats.py:1713: FutureWarning: Using a non-tuple sequence for multidimensional indexing is deprecated; use `arr[tuple(seq)]` instead of `arr[seq]`. In the future this will be interpreted as an array index, `arr[np.array(seq)]`, which will result either in an error or a different result.\n",
            "  return np.add.reduce(sorted[indexer] * weights, axis=axis) / sumval\n",
            "C:\\Users\\Idriss\\AppData\\Local\\Continuum\\anaconda3\\envs\\tensorflow\\lib\\site-packages\\matplotlib\\axes\\_axes.py:6462: UserWarning: The 'normed' kwarg is deprecated, and has been replaced by the 'density' kwarg.\n",
            "  warnings.warn(\"The 'normed' kwarg is deprecated, and has been \"\n",
            "C:\\Users\\Idriss\\AppData\\Local\\Continuum\\anaconda3\\envs\\tensorflow\\lib\\site-packages\\matplotlib\\axes\\_axes.py:6462: UserWarning: The 'normed' kwarg is deprecated, and has been replaced by the 'density' kwarg.\n",
            "  warnings.warn(\"The 'normed' kwarg is deprecated, and has been \"\n",
            "C:\\Users\\Idriss\\AppData\\Local\\Continuum\\anaconda3\\envs\\tensorflow\\lib\\site-packages\\matplotlib\\axes\\_axes.py:6462: UserWarning: The 'normed' kwarg is deprecated, and has been replaced by the 'density' kwarg.\n",
            "  warnings.warn(\"The 'normed' kwarg is deprecated, and has been \"\n"
          ],
          "name": "stderr"
        },
        {
          "output_type": "execute_result",
          "data": {
            "text/plain": [
              "<matplotlib.axes._subplots.AxesSubplot at 0x205dbd10e10>"
            ]
          },
          "metadata": {
            "tags": []
          },
          "execution_count": 11
        },
        {
          "output_type": "display_data",
          "data": {
            "image/png": "[encoded data removed]",
            "text/plain": [
              "<Figure size 1728x432 with 3 Axes>"
            ]
          },
          "metadata": {
            "tags": []
          }
        }
      ]
    },
    {
      "cell_type": "code",
      "metadata": {
        "id": "VVVUfNneruUb",
        "outputId": "c9ce49e4-c302-4a9f-c45d-50f13cb52d79"
      },
      "source": [
        "df.describe()"
      ],
      "execution_count": null,
      "outputs": [
        {
          "output_type": "execute_result",
          "data": {
            "text/html": [
              "<div>\n",
              "<style scoped>\n",
              "    .dataframe tbody tr th:only-of-type {\n",
              "        vertical-align: middle;\n",
              "    }\n",
              "\n",
              "    .dataframe tbody tr th {\n",
              "        vertical-align: top;\n",
              "    }\n",
              "\n",
              "    .dataframe thead th {\n",
              "        text-align: right;\n",
              "    }\n",
              "</style>\n",
              "<table border=\"1\" class=\"dataframe\">\n",
              "  <thead>\n",
              "    <tr style=\"text-align: right;\">\n",
              "      <th></th>\n",
              "      <th>Age</th>\n",
              "      <th>BMI</th>\n",
              "      <th>Glucose</th>\n",
              "      <th>Insulin</th>\n",
              "      <th>HOMA</th>\n",
              "      <th>Leptin</th>\n",
              "      <th>Adiponectin</th>\n",
              "      <th>Resistin</th>\n",
              "      <th>MCP.1</th>\n",
              "      <th>target</th>\n",
              "    </tr>\n",
              "  </thead>\n",
              "  <tbody>\n",
              "    <tr>\n",
              "      <th>count</th>\n",
              "      <td>116.000000</td>\n",
              "      <td>116.000000</td>\n",
              "      <td>116.000000</td>\n",
              "      <td>116.000000</td>\n",
              "      <td>116.000000</td>\n",
              "      <td>116.000000</td>\n",
              "      <td>116.000000</td>\n",
              "      <td>116.000000</td>\n",
              "      <td>116.000000</td>\n",
              "      <td>116.000000</td>\n",
              "    </tr>\n",
              "    <tr>\n",
              "      <th>mean</th>\n",
              "      <td>57.301724</td>\n",
              "      <td>27.582111</td>\n",
              "      <td>97.793103</td>\n",
              "      <td>10.012086</td>\n",
              "      <td>2.694988</td>\n",
              "      <td>26.615080</td>\n",
              "      <td>10.180874</td>\n",
              "      <td>14.725966</td>\n",
              "      <td>534.647000</td>\n",
              "      <td>0.551724</td>\n",
              "    </tr>\n",
              "    <tr>\n",
              "      <th>std</th>\n",
              "      <td>16.112766</td>\n",
              "      <td>5.020136</td>\n",
              "      <td>22.525162</td>\n",
              "      <td>10.067768</td>\n",
              "      <td>3.642043</td>\n",
              "      <td>19.183294</td>\n",
              "      <td>6.843341</td>\n",
              "      <td>12.390646</td>\n",
              "      <td>345.912663</td>\n",
              "      <td>0.499475</td>\n",
              "    </tr>\n",
              "    <tr>\n",
              "      <th>min</th>\n",
              "      <td>24.000000</td>\n",
              "      <td>18.370000</td>\n",
              "      <td>60.000000</td>\n",
              "      <td>2.432000</td>\n",
              "      <td>0.467409</td>\n",
              "      <td>4.311000</td>\n",
              "      <td>1.656020</td>\n",
              "      <td>3.210000</td>\n",
              "      <td>45.843000</td>\n",
              "      <td>0.000000</td>\n",
              "    </tr>\n",
              "    <tr>\n",
              "      <th>25%</th>\n",
              "      <td>45.000000</td>\n",
              "      <td>22.973205</td>\n",
              "      <td>85.750000</td>\n",
              "      <td>4.359250</td>\n",
              "      <td>0.917966</td>\n",
              "      <td>12.313675</td>\n",
              "      <td>5.474282</td>\n",
              "      <td>6.881763</td>\n",
              "      <td>269.978250</td>\n",
              "      <td>0.000000</td>\n",
              "    </tr>\n",
              "    <tr>\n",
              "      <th>50%</th>\n",
              "      <td>56.000000</td>\n",
              "      <td>27.662416</td>\n",
              "      <td>92.000000</td>\n",
              "      <td>5.924500</td>\n",
              "      <td>1.380939</td>\n",
              "      <td>20.271000</td>\n",
              "      <td>8.352692</td>\n",
              "      <td>10.827740</td>\n",
              "      <td>471.322500</td>\n",
              "      <td>1.000000</td>\n",
              "    </tr>\n",
              "    <tr>\n",
              "      <th>75%</th>\n",
              "      <td>71.000000</td>\n",
              "      <td>31.241442</td>\n",
              "      <td>102.000000</td>\n",
              "      <td>11.189250</td>\n",
              "      <td>2.857787</td>\n",
              "      <td>37.378300</td>\n",
              "      <td>11.815970</td>\n",
              "      <td>17.755207</td>\n",
              "      <td>700.085000</td>\n",
              "      <td>1.000000</td>\n",
              "    </tr>\n",
              "    <tr>\n",
              "      <th>max</th>\n",
              "      <td>89.000000</td>\n",
              "      <td>38.578759</td>\n",
              "      <td>201.000000</td>\n",
              "      <td>58.460000</td>\n",
              "      <td>25.050342</td>\n",
              "      <td>90.280000</td>\n",
              "      <td>38.040000</td>\n",
              "      <td>82.100000</td>\n",
              "      <td>1698.440000</td>\n",
              "      <td>1.000000</td>\n",
              "    </tr>\n",
              "  </tbody>\n",
              "</table>\n",
              "</div>"
            ],
            "text/plain": [
              "              Age         BMI     Glucose     Insulin        HOMA      Leptin  \\\n",
              "count  116.000000  116.000000  116.000000  116.000000  116.000000  116.000000   \n",
              "mean    57.301724   27.582111   97.793103   10.012086    2.694988   26.615080   \n",
              "std     16.112766    5.020136   22.525162   10.067768    3.642043   19.183294   \n",
              "min     24.000000   18.370000   60.000000    2.432000    0.467409    4.311000   \n",
              "25%     45.000000   22.973205   85.750000    4.359250    0.917966   12.313675   \n",
              "50%     56.000000   27.662416   92.000000    5.924500    1.380939   20.271000   \n",
              "75%     71.000000   31.241442  102.000000   11.189250    2.857787   37.378300   \n",
              "max     89.000000   38.578759  201.000000   58.460000   25.050342   90.280000   \n",
              "\n",
              "       Adiponectin    Resistin        MCP.1      target  \n",
              "count   116.000000  116.000000   116.000000  116.000000  \n",
              "mean     10.180874   14.725966   534.647000    0.551724  \n",
              "std       6.843341   12.390646   345.912663    0.499475  \n",
              "min       1.656020    3.210000    45.843000    0.000000  \n",
              "25%       5.474282    6.881763   269.978250    0.000000  \n",
              "50%       8.352692   10.827740   471.322500    1.000000  \n",
              "75%      11.815970   17.755207   700.085000    1.000000  \n",
              "max      38.040000   82.100000  1698.440000    1.000000  "
            ]
          },
          "metadata": {
            "tags": []
          },
          "execution_count": 13
        }
      ]
    },
    {
      "cell_type": "code",
      "metadata": {
        "id": "0u79z2-SruUm",
        "outputId": "568cdc02-54a6-4d6a-f404-c68d3e205d63"
      },
      "source": [
        "bins_age=[24,45,56,71,89]\n",
        "bins_bmi=[18.37,23,30,40]\n",
        "bins_glucose=[60,85,92,105,201]\n",
        "df['age_class']=pd.cut(df['Age'],bins=bins_age)\n",
        "df['bmi_class']=pd.cut(df['BMI'],bins=bins_bmi)\n",
        "df['glucose_class']=pd.cut(df['Glucose'],bins=bins_glucose)\n",
        "df.tail(10)"
      ],
      "execution_count": null,
      "outputs": [
        {
          "output_type": "execute_result",
          "data": {
            "text/html": [
              "<div>\n",
              "<style scoped>\n",
              "    .dataframe tbody tr th:only-of-type {\n",
              "        vertical-align: middle;\n",
              "    }\n",
              "\n",
              "    .dataframe tbody tr th {\n",
              "        vertical-align: top;\n",
              "    }\n",
              "\n",
              "    .dataframe thead th {\n",
              "        text-align: right;\n",
              "    }\n",
              "</style>\n",
              "<table border=\"1\" class=\"dataframe\">\n",
              "  <thead>\n",
              "    <tr style=\"text-align: right;\">\n",
              "      <th></th>\n",
              "      <th>Age</th>\n",
              "      <th>BMI</th>\n",
              "      <th>Glucose</th>\n",
              "      <th>Insulin</th>\n",
              "      <th>HOMA</th>\n",
              "      <th>Leptin</th>\n",
              "      <th>Adiponectin</th>\n",
              "      <th>Resistin</th>\n",
              "      <th>MCP.1</th>\n",
              "      <th>target</th>\n",
              "      <th>age_class</th>\n",
              "      <th>bmi_class</th>\n",
              "      <th>glucose_class</th>\n",
              "    </tr>\n",
              "  </thead>\n",
              "  <tbody>\n",
              "    <tr>\n",
              "      <th>106</th>\n",
              "      <td>45</td>\n",
              "      <td>29.384757</td>\n",
              "      <td>90</td>\n",
              "      <td>4.713</td>\n",
              "      <td>1.046286</td>\n",
              "      <td>23.8479</td>\n",
              "      <td>6.644245</td>\n",
              "      <td>15.55625</td>\n",
              "      <td>621.273</td>\n",
              "      <td>1</td>\n",
              "      <td>(24, 45]</td>\n",
              "      <td>(23.0, 30.0]</td>\n",
              "      <td>(85, 92]</td>\n",
              "    </tr>\n",
              "    <tr>\n",
              "      <th>107</th>\n",
              "      <td>46</td>\n",
              "      <td>33.180000</td>\n",
              "      <td>92</td>\n",
              "      <td>5.750</td>\n",
              "      <td>1.304867</td>\n",
              "      <td>18.6900</td>\n",
              "      <td>9.160000</td>\n",
              "      <td>8.89000</td>\n",
              "      <td>209.190</td>\n",
              "      <td>1</td>\n",
              "      <td>(45, 56]</td>\n",
              "      <td>(30.0, 40.0]</td>\n",
              "      <td>(85, 92]</td>\n",
              "    </tr>\n",
              "    <tr>\n",
              "      <th>108</th>\n",
              "      <td>68</td>\n",
              "      <td>35.560000</td>\n",
              "      <td>131</td>\n",
              "      <td>8.150</td>\n",
              "      <td>2.633537</td>\n",
              "      <td>17.8700</td>\n",
              "      <td>11.900000</td>\n",
              "      <td>4.19000</td>\n",
              "      <td>198.400</td>\n",
              "      <td>1</td>\n",
              "      <td>(56, 71]</td>\n",
              "      <td>(30.0, 40.0]</td>\n",
              "      <td>(105, 201]</td>\n",
              "    </tr>\n",
              "    <tr>\n",
              "      <th>109</th>\n",
              "      <td>75</td>\n",
              "      <td>30.480000</td>\n",
              "      <td>152</td>\n",
              "      <td>7.010</td>\n",
              "      <td>2.628283</td>\n",
              "      <td>50.5300</td>\n",
              "      <td>10.060000</td>\n",
              "      <td>11.73000</td>\n",
              "      <td>99.450</td>\n",
              "      <td>1</td>\n",
              "      <td>(71, 89]</td>\n",
              "      <td>(30.0, 40.0]</td>\n",
              "      <td>(105, 201]</td>\n",
              "    </tr>\n",
              "    <tr>\n",
              "      <th>110</th>\n",
              "      <td>54</td>\n",
              "      <td>36.050000</td>\n",
              "      <td>119</td>\n",
              "      <td>11.910</td>\n",
              "      <td>3.495982</td>\n",
              "      <td>89.2700</td>\n",
              "      <td>8.010000</td>\n",
              "      <td>5.06000</td>\n",
              "      <td>218.280</td>\n",
              "      <td>1</td>\n",
              "      <td>(45, 56]</td>\n",
              "      <td>(30.0, 40.0]</td>\n",
              "      <td>(105, 201]</td>\n",
              "    </tr>\n",
              "    <tr>\n",
              "      <th>111</th>\n",
              "      <td>45</td>\n",
              "      <td>26.850000</td>\n",
              "      <td>92</td>\n",
              "      <td>3.330</td>\n",
              "      <td>0.755688</td>\n",
              "      <td>54.6800</td>\n",
              "      <td>12.100000</td>\n",
              "      <td>10.96000</td>\n",
              "      <td>268.230</td>\n",
              "      <td>1</td>\n",
              "      <td>(24, 45]</td>\n",
              "      <td>(23.0, 30.0]</td>\n",
              "      <td>(85, 92]</td>\n",
              "    </tr>\n",
              "    <tr>\n",
              "      <th>112</th>\n",
              "      <td>62</td>\n",
              "      <td>26.840000</td>\n",
              "      <td>100</td>\n",
              "      <td>4.530</td>\n",
              "      <td>1.117400</td>\n",
              "      <td>12.4500</td>\n",
              "      <td>21.420000</td>\n",
              "      <td>7.32000</td>\n",
              "      <td>330.160</td>\n",
              "      <td>1</td>\n",
              "      <td>(56, 71]</td>\n",
              "      <td>(23.0, 30.0]</td>\n",
              "      <td>(92, 105]</td>\n",
              "    </tr>\n",
              "    <tr>\n",
              "      <th>113</th>\n",
              "      <td>65</td>\n",
              "      <td>32.050000</td>\n",
              "      <td>97</td>\n",
              "      <td>5.730</td>\n",
              "      <td>1.370998</td>\n",
              "      <td>61.4800</td>\n",
              "      <td>22.540000</td>\n",
              "      <td>10.33000</td>\n",
              "      <td>314.050</td>\n",
              "      <td>1</td>\n",
              "      <td>(56, 71]</td>\n",
              "      <td>(30.0, 40.0]</td>\n",
              "      <td>(92, 105]</td>\n",
              "    </tr>\n",
              "    <tr>\n",
              "      <th>114</th>\n",
              "      <td>72</td>\n",
              "      <td>25.590000</td>\n",
              "      <td>82</td>\n",
              "      <td>2.820</td>\n",
              "      <td>0.570392</td>\n",
              "      <td>24.9600</td>\n",
              "      <td>33.750000</td>\n",
              "      <td>3.27000</td>\n",
              "      <td>392.460</td>\n",
              "      <td>1</td>\n",
              "      <td>(71, 89]</td>\n",
              "      <td>(23.0, 30.0]</td>\n",
              "      <td>(60, 85]</td>\n",
              "    </tr>\n",
              "    <tr>\n",
              "      <th>115</th>\n",
              "      <td>86</td>\n",
              "      <td>27.180000</td>\n",
              "      <td>138</td>\n",
              "      <td>19.910</td>\n",
              "      <td>6.777364</td>\n",
              "      <td>90.2800</td>\n",
              "      <td>14.110000</td>\n",
              "      <td>4.35000</td>\n",
              "      <td>90.090</td>\n",
              "      <td>1</td>\n",
              "      <td>(71, 89]</td>\n",
              "      <td>(23.0, 30.0]</td>\n",
              "      <td>(105, 201]</td>\n",
              "    </tr>\n",
              "  </tbody>\n",
              "</table>\n",
              "</div>"
            ],
            "text/plain": [
              "     Age        BMI  Glucose  Insulin      HOMA   Leptin  Adiponectin  \\\n",
              "106   45  29.384757       90    4.713  1.046286  23.8479     6.644245   \n",
              "107   46  33.180000       92    5.750  1.304867  18.6900     9.160000   \n",
              "108   68  35.560000      131    8.150  2.633537  17.8700    11.900000   \n",
              "109   75  30.480000      152    7.010  2.628283  50.5300    10.060000   \n",
              "110   54  36.050000      119   11.910  3.495982  89.2700     8.010000   \n",
              "111   45  26.850000       92    3.330  0.755688  54.6800    12.100000   \n",
              "112   62  26.840000      100    4.530  1.117400  12.4500    21.420000   \n",
              "113   65  32.050000       97    5.730  1.370998  61.4800    22.540000   \n",
              "114   72  25.590000       82    2.820  0.570392  24.9600    33.750000   \n",
              "115   86  27.180000      138   19.910  6.777364  90.2800    14.110000   \n",
              "\n",
              "     Resistin    MCP.1  target age_class     bmi_class glucose_class  \n",
              "106  15.55625  621.273       1  (24, 45]  (23.0, 30.0]      (85, 92]  \n",
              "107   8.89000  209.190       1  (45, 56]  (30.0, 40.0]      (85, 92]  \n",
              "108   4.19000  198.400       1  (56, 71]  (30.0, 40.0]    (105, 201]  \n",
              "109  11.73000   99.450       1  (71, 89]  (30.0, 40.0]    (105, 201]  \n",
              "110   5.06000  218.280       1  (45, 56]  (30.0, 40.0]    (105, 201]  \n",
              "111  10.96000  268.230       1  (24, 45]  (23.0, 30.0]      (85, 92]  \n",
              "112   7.32000  330.160       1  (56, 71]  (23.0, 30.0]     (92, 105]  \n",
              "113  10.33000  314.050       1  (56, 71]  (30.0, 40.0]     (92, 105]  \n",
              "114   3.27000  392.460       1  (71, 89]  (23.0, 30.0]      (60, 85]  \n",
              "115   4.35000   90.090       1  (71, 89]  (23.0, 30.0]    (105, 201]  "
            ]
          },
          "metadata": {
            "tags": []
          },
          "execution_count": 14
        }
      ]
    },
    {
      "cell_type": "code",
      "metadata": {
        "id": "Yfl7cSx2ruUx",
        "outputId": "8844e7bf-61f4-462a-9381-7386d9e6c6a4"
      },
      "source": [
        "fig,ax=plt.subplots(figsize=(24,6))\n",
        "plt.subplot(1, 3,1)\n",
        "g2=sns.countplot(x='age_class',data=df,hue='target',palette='plasma',linewidth=3)\n",
        "g2.set_title(\"Age vs Cancer\")\n",
        "plt.subplot(1, 3,2)\n",
        "g2=sns.countplot(x='bmi_class',data=df,hue='target',palette='plasma',linewidth=3)\n",
        "g2.set_title(\"BMI vs Cancer\")\n",
        "plt.subplot(1, 3,3)\n",
        "g2=sns.countplot(x='glucose_class',data=df,hue='target',palette='plasma',linewidth=3)\n",
        "g2.set_title(\"Glucose vs Cancer\")"
      ],
      "execution_count": null,
      "outputs": [
        {
          "output_type": "execute_result",
          "data": {
            "text/plain": [
              "Text(0.5,1,'Glucose vs Cancer')"
            ]
          },
          "metadata": {
            "tags": []
          },
          "execution_count": 19
        },
        {
          "output_type": "display_data",
          "data": {
            "image/png": "[encoded data removed]",
            "text/plain": [
              "<Figure size 1728x432 with 3 Axes>"
            ]
          },
          "metadata": {
            "tags": []
          }
        }
      ]
    },
    {
      "cell_type": "markdown",
      "metadata": {
        "id": "anaswdiaruU6"
      },
      "source": [
        "##### Analyse of the graphs\n",
        "people between 45 and 60 years old are more likely to have cancer, and people with more than 90g/l of glucose"
      ]
    },
    {
      "cell_type": "code",
      "metadata": {
        "id": "4iVhrfbaruU7",
        "outputId": "33c961d7-8fda-45cf-a2ac-7d9591df2e24"
      },
      "source": [
        "df.describe()"
      ],
      "execution_count": null,
      "outputs": [
        {
          "output_type": "execute_result",
          "data": {
            "text/html": [
              "<div>\n",
              "<style scoped>\n",
              "    .dataframe tbody tr th:only-of-type {\n",
              "        vertical-align: middle;\n",
              "    }\n",
              "\n",
              "    .dataframe tbody tr th {\n",
              "        vertical-align: top;\n",
              "    }\n",
              "\n",
              "    .dataframe thead th {\n",
              "        text-align: right;\n",
              "    }\n",
              "</style>\n",
              "<table border=\"1\" class=\"dataframe\">\n",
              "  <thead>\n",
              "    <tr style=\"text-align: right;\">\n",
              "      <th></th>\n",
              "      <th>Age</th>\n",
              "      <th>BMI</th>\n",
              "      <th>Glucose</th>\n",
              "      <th>Insulin</th>\n",
              "      <th>HOMA</th>\n",
              "      <th>Leptin</th>\n",
              "      <th>Adiponectin</th>\n",
              "      <th>Resistin</th>\n",
              "      <th>MCP.1</th>\n",
              "      <th>target</th>\n",
              "    </tr>\n",
              "  </thead>\n",
              "  <tbody>\n",
              "    <tr>\n",
              "      <th>count</th>\n",
              "      <td>116.000000</td>\n",
              "      <td>116.000000</td>\n",
              "      <td>116.000000</td>\n",
              "      <td>116.000000</td>\n",
              "      <td>116.000000</td>\n",
              "      <td>116.000000</td>\n",
              "      <td>116.000000</td>\n",
              "      <td>116.000000</td>\n",
              "      <td>116.000000</td>\n",
              "      <td>116.000000</td>\n",
              "    </tr>\n",
              "    <tr>\n",
              "      <th>mean</th>\n",
              "      <td>57.301724</td>\n",
              "      <td>27.582111</td>\n",
              "      <td>97.793103</td>\n",
              "      <td>10.012086</td>\n",
              "      <td>2.694988</td>\n",
              "      <td>26.615080</td>\n",
              "      <td>10.180874</td>\n",
              "      <td>14.725966</td>\n",
              "      <td>534.647000</td>\n",
              "      <td>0.551724</td>\n",
              "    </tr>\n",
              "    <tr>\n",
              "      <th>std</th>\n",
              "      <td>16.112766</td>\n",
              "      <td>5.020136</td>\n",
              "      <td>22.525162</td>\n",
              "      <td>10.067768</td>\n",
              "      <td>3.642043</td>\n",
              "      <td>19.183294</td>\n",
              "      <td>6.843341</td>\n",
              "      <td>12.390646</td>\n",
              "      <td>345.912663</td>\n",
              "      <td>0.499475</td>\n",
              "    </tr>\n",
              "    <tr>\n",
              "      <th>min</th>\n",
              "      <td>24.000000</td>\n",
              "      <td>18.370000</td>\n",
              "      <td>60.000000</td>\n",
              "      <td>2.432000</td>\n",
              "      <td>0.467409</td>\n",
              "      <td>4.311000</td>\n",
              "      <td>1.656020</td>\n",
              "      <td>3.210000</td>\n",
              "      <td>45.843000</td>\n",
              "      <td>0.000000</td>\n",
              "    </tr>\n",
              "    <tr>\n",
              "      <th>25%</th>\n",
              "      <td>45.000000</td>\n",
              "      <td>22.973205</td>\n",
              "      <td>85.750000</td>\n",
              "      <td>4.359250</td>\n",
              "      <td>0.917966</td>\n",
              "      <td>12.313675</td>\n",
              "      <td>5.474282</td>\n",
              "      <td>6.881763</td>\n",
              "      <td>269.978250</td>\n",
              "      <td>0.000000</td>\n",
              "    </tr>\n",
              "    <tr>\n",
              "      <th>50%</th>\n",
              "      <td>56.000000</td>\n",
              "      <td>27.662416</td>\n",
              "      <td>92.000000</td>\n",
              "      <td>5.924500</td>\n",
              "      <td>1.380939</td>\n",
              "      <td>20.271000</td>\n",
              "      <td>8.352692</td>\n",
              "      <td>10.827740</td>\n",
              "      <td>471.322500</td>\n",
              "      <td>1.000000</td>\n",
              "    </tr>\n",
              "    <tr>\n",
              "      <th>75%</th>\n",
              "      <td>71.000000</td>\n",
              "      <td>31.241442</td>\n",
              "      <td>102.000000</td>\n",
              "      <td>11.189250</td>\n",
              "      <td>2.857787</td>\n",
              "      <td>37.378300</td>\n",
              "      <td>11.815970</td>\n",
              "      <td>17.755207</td>\n",
              "      <td>700.085000</td>\n",
              "      <td>1.000000</td>\n",
              "    </tr>\n",
              "    <tr>\n",
              "      <th>max</th>\n",
              "      <td>89.000000</td>\n",
              "      <td>38.578759</td>\n",
              "      <td>201.000000</td>\n",
              "      <td>58.460000</td>\n",
              "      <td>25.050342</td>\n",
              "      <td>90.280000</td>\n",
              "      <td>38.040000</td>\n",
              "      <td>82.100000</td>\n",
              "      <td>1698.440000</td>\n",
              "      <td>1.000000</td>\n",
              "    </tr>\n",
              "  </tbody>\n",
              "</table>\n",
              "</div>"
            ],
            "text/plain": [
              "              Age         BMI     Glucose     Insulin        HOMA      Leptin  \\\n",
              "count  116.000000  116.000000  116.000000  116.000000  116.000000  116.000000   \n",
              "mean    57.301724   27.582111   97.793103   10.012086    2.694988   26.615080   \n",
              "std     16.112766    5.020136   22.525162   10.067768    3.642043   19.183294   \n",
              "min     24.000000   18.370000   60.000000    2.432000    0.467409    4.311000   \n",
              "25%     45.000000   22.973205   85.750000    4.359250    0.917966   12.313675   \n",
              "50%     56.000000   27.662416   92.000000    5.924500    1.380939   20.271000   \n",
              "75%     71.000000   31.241442  102.000000   11.189250    2.857787   37.378300   \n",
              "max     89.000000   38.578759  201.000000   58.460000   25.050342   90.280000   \n",
              "\n",
              "       Adiponectin    Resistin        MCP.1      target  \n",
              "count   116.000000  116.000000   116.000000  116.000000  \n",
              "mean     10.180874   14.725966   534.647000    0.551724  \n",
              "std       6.843341   12.390646   345.912663    0.499475  \n",
              "min       1.656020    3.210000    45.843000    0.000000  \n",
              "25%       5.474282    6.881763   269.978250    0.000000  \n",
              "50%       8.352692   10.827740   471.322500    1.000000  \n",
              "75%      11.815970   17.755207   700.085000    1.000000  \n",
              "max      38.040000   82.100000  1698.440000    1.000000  "
            ]
          },
          "metadata": {
            "tags": []
          },
          "execution_count": 20
        }
      ]
    },
    {
      "cell_type": "code",
      "metadata": {
        "id": "R0bnR4GIruVF"
      },
      "source": [
        "bins_insul=[2.432000,4.359250,5.924500,11.189250,58.460000]\n",
        "bins_homa=[0.467409,0.917966,1.380939,2.857787,25.050342]\n",
        "bins_leptin=[4.311000,12.313675,20.271,37.3783,90.280]\n",
        "df['insul_class']=pd.cut(df['Insulin'],bins=bins_insul)\n",
        "df['homa_class']=pd.cut(df['HOMA'],bins=bins_homa)\n",
        "df['leptin_class']=pd.cut(df['Leptin'],bins=bins_leptin)"
      ],
      "execution_count": null,
      "outputs": []
    },
    {
      "cell_type": "code",
      "metadata": {
        "id": "yJno4JKlruVL",
        "outputId": "c96b5278-26ad-41aa-db17-d4b9c5340cfd"
      },
      "source": [
        "fig,ax=plt.subplots(figsize=(24,6))\n",
        "plt.subplot(1, 3,1)\n",
        "g2=sns.countplot(x='insul_class',data=df,hue='target',palette='plasma',linewidth=3)\n",
        "g2.set_title(\"Insulin vs Cancer\")\n",
        "plt.subplot(1, 3,2)\n",
        "g2=sns.countplot(x='homa_class',data=df,hue='target',palette='plasma',linewidth=3)\n",
        "g2.set_title(\"HOMA vs Cancer\")\n",
        "plt.subplot(1, 3,3)\n",
        "g2=sns.countplot(x='leptin_class',data=df,hue='target',palette='plasma',linewidth=3)\n",
        "g2.set_title(\"Leptin vs Cancer\")"
      ],
      "execution_count": null,
      "outputs": [
        {
          "output_type": "execute_result",
          "data": {
            "text/plain": [
              "Text(0.5,1,'Leptin vs Cancer')"
            ]
          },
          "metadata": {
            "tags": []
          },
          "execution_count": 22
        },
        {
          "output_type": "display_data",
          "data": {
            "image/png": "[encoded data removed]",
            "text/plain": [
              "<Figure size 1728x432 with 3 Axes>"
            ]
          },
          "metadata": {
            "tags": []
          }
        }
      ]
    },
    {
      "cell_type": "markdown",
      "metadata": {
        "id": "1diXlCFMruVT"
      },
      "source": [
        "##### Analyse of results: people with high level of insulin or Homa have much chance to get cancer"
      ]
    },
    {
      "cell_type": "code",
      "metadata": {
        "id": "shrKxcpgruVV"
      },
      "source": [
        "#plt.pie(x='homa_class',data=df)\n",
        "#Logistic2.coef_"
      ],
      "execution_count": null,
      "outputs": []
    },
    {
      "cell_type": "code",
      "metadata": {
        "id": "LQHBhS88ruVc"
      },
      "source": [
        "#df.plot.scatter(x='Age', y='target')"
      ],
      "execution_count": null,
      "outputs": []
    },
    {
      "cell_type": "code",
      "metadata": {
        "id": "v_dl4iC0ruVo",
        "outputId": "475ca3b0-83d2-4bb7-8bef-d2d69adf5a51"
      },
      "source": [
        "df.sample()"
      ],
      "execution_count": null,
      "outputs": [
        {
          "output_type": "execute_result",
          "data": {
            "text/html": [
              "<div>\n",
              "<style scoped>\n",
              "    .dataframe tbody tr th:only-of-type {\n",
              "        vertical-align: middle;\n",
              "    }\n",
              "\n",
              "    .dataframe tbody tr th {\n",
              "        vertical-align: top;\n",
              "    }\n",
              "\n",
              "    .dataframe thead th {\n",
              "        text-align: right;\n",
              "    }\n",
              "</style>\n",
              "<table border=\"1\" class=\"dataframe\">\n",
              "  <thead>\n",
              "    <tr style=\"text-align: right;\">\n",
              "      <th></th>\n",
              "      <th>Age</th>\n",
              "      <th>BMI</th>\n",
              "      <th>Glucose</th>\n",
              "      <th>Insulin</th>\n",
              "      <th>HOMA</th>\n",
              "      <th>Leptin</th>\n",
              "      <th>Adiponectin</th>\n",
              "      <th>Resistin</th>\n",
              "      <th>MCP.1</th>\n",
              "      <th>target</th>\n",
              "      <th>age_class</th>\n",
              "      <th>bmi_class</th>\n",
              "      <th>glucose_class</th>\n",
              "      <th>insul_class</th>\n",
              "      <th>homa_class</th>\n",
              "      <th>leptin_class</th>\n",
              "    </tr>\n",
              "  </thead>\n",
              "  <tbody>\n",
              "    <tr>\n",
              "      <th>24</th>\n",
              "      <td>54</td>\n",
              "      <td>30.483158</td>\n",
              "      <td>90</td>\n",
              "      <td>5.537</td>\n",
              "      <td>1.229214</td>\n",
              "      <td>12.331</td>\n",
              "      <td>9.73138</td>\n",
              "      <td>10.19299</td>\n",
              "      <td>1227.91</td>\n",
              "      <td>1</td>\n",
              "      <td>(45, 56]</td>\n",
              "      <td>(30.0, 40.0]</td>\n",
              "      <td>(85, 92]</td>\n",
              "      <td>(4.359, 5.924]</td>\n",
              "      <td>(0.918, 1.381]</td>\n",
              "      <td>(12.314, 20.271]</td>\n",
              "    </tr>\n",
              "  </tbody>\n",
              "</table>\n",
              "</div>"
            ],
            "text/plain": [
              "    Age        BMI  Glucose  Insulin      HOMA  Leptin  Adiponectin  Resistin  \\\n",
              "24   54  30.483158       90    5.537  1.229214  12.331      9.73138  10.19299   \n",
              "\n",
              "      MCP.1  target age_class     bmi_class glucose_class     insul_class  \\\n",
              "24  1227.91       1  (45, 56]  (30.0, 40.0]      (85, 92]  (4.359, 5.924]   \n",
              "\n",
              "        homa_class      leptin_class  \n",
              "24  (0.918, 1.381]  (12.314, 20.271]  "
            ]
          },
          "metadata": {
            "tags": []
          },
          "execution_count": 20
        }
      ]
    },
    {
      "cell_type": "code",
      "metadata": {
        "id": "a0fJLEl8ruVw"
      },
      "source": [
        "df=df.drop(['age_class','bmi_class','glucose_class','insul_class','homa_class','leptin_class'],axis=1)"
      ],
      "execution_count": null,
      "outputs": []
    },
    {
      "cell_type": "code",
      "metadata": {
        "id": "OEgvpG9aruV4",
        "outputId": "5eb0a88e-7bc8-42a1-a96d-ea3f926011ae"
      },
      "source": [
        "df.head()"
      ],
      "execution_count": null,
      "outputs": [
        {
          "output_type": "execute_result",
          "data": {
            "text/html": [
              "<div>\n",
              "<style scoped>\n",
              "    .dataframe tbody tr th:only-of-type {\n",
              "        vertical-align: middle;\n",
              "    }\n",
              "\n",
              "    .dataframe tbody tr th {\n",
              "        vertical-align: top;\n",
              "    }\n",
              "\n",
              "    .dataframe thead th {\n",
              "        text-align: right;\n",
              "    }\n",
              "</style>\n",
              "<table border=\"1\" class=\"dataframe\">\n",
              "  <thead>\n",
              "    <tr style=\"text-align: right;\">\n",
              "      <th></th>\n",
              "      <th>Age</th>\n",
              "      <th>BMI</th>\n",
              "      <th>Glucose</th>\n",
              "      <th>Insulin</th>\n",
              "      <th>HOMA</th>\n",
              "      <th>Leptin</th>\n",
              "      <th>Adiponectin</th>\n",
              "      <th>Resistin</th>\n",
              "      <th>MCP.1</th>\n",
              "      <th>target</th>\n",
              "    </tr>\n",
              "  </thead>\n",
              "  <tbody>\n",
              "    <tr>\n",
              "      <th>0</th>\n",
              "      <td>48</td>\n",
              "      <td>23.500000</td>\n",
              "      <td>70</td>\n",
              "      <td>2.707</td>\n",
              "      <td>0.467409</td>\n",
              "      <td>8.8071</td>\n",
              "      <td>9.702400</td>\n",
              "      <td>7.99585</td>\n",
              "      <td>417.114</td>\n",
              "      <td>1</td>\n",
              "    </tr>\n",
              "    <tr>\n",
              "      <th>1</th>\n",
              "      <td>83</td>\n",
              "      <td>20.690495</td>\n",
              "      <td>92</td>\n",
              "      <td>3.115</td>\n",
              "      <td>0.706897</td>\n",
              "      <td>8.8438</td>\n",
              "      <td>5.429285</td>\n",
              "      <td>4.06405</td>\n",
              "      <td>468.786</td>\n",
              "      <td>1</td>\n",
              "    </tr>\n",
              "    <tr>\n",
              "      <th>2</th>\n",
              "      <td>82</td>\n",
              "      <td>23.124670</td>\n",
              "      <td>91</td>\n",
              "      <td>4.498</td>\n",
              "      <td>1.009651</td>\n",
              "      <td>17.9393</td>\n",
              "      <td>22.432040</td>\n",
              "      <td>9.27715</td>\n",
              "      <td>554.697</td>\n",
              "      <td>1</td>\n",
              "    </tr>\n",
              "    <tr>\n",
              "      <th>3</th>\n",
              "      <td>68</td>\n",
              "      <td>21.367521</td>\n",
              "      <td>77</td>\n",
              "      <td>3.226</td>\n",
              "      <td>0.612725</td>\n",
              "      <td>9.8827</td>\n",
              "      <td>7.169560</td>\n",
              "      <td>12.76600</td>\n",
              "      <td>928.220</td>\n",
              "      <td>1</td>\n",
              "    </tr>\n",
              "    <tr>\n",
              "      <th>4</th>\n",
              "      <td>86</td>\n",
              "      <td>21.111111</td>\n",
              "      <td>92</td>\n",
              "      <td>3.549</td>\n",
              "      <td>0.805386</td>\n",
              "      <td>6.6994</td>\n",
              "      <td>4.819240</td>\n",
              "      <td>10.57635</td>\n",
              "      <td>773.920</td>\n",
              "      <td>1</td>\n",
              "    </tr>\n",
              "  </tbody>\n",
              "</table>\n",
              "</div>"
            ],
            "text/plain": [
              "   Age        BMI  Glucose  Insulin      HOMA   Leptin  Adiponectin  Resistin  \\\n",
              "0   48  23.500000       70    2.707  0.467409   8.8071     9.702400   7.99585   \n",
              "1   83  20.690495       92    3.115  0.706897   8.8438     5.429285   4.06405   \n",
              "2   82  23.124670       91    4.498  1.009651  17.9393    22.432040   9.27715   \n",
              "3   68  21.367521       77    3.226  0.612725   9.8827     7.169560  12.76600   \n",
              "4   86  21.111111       92    3.549  0.805386   6.6994     4.819240  10.57635   \n",
              "\n",
              "     MCP.1  target  \n",
              "0  417.114       1  \n",
              "1  468.786       1  \n",
              "2  554.697       1  \n",
              "3  928.220       1  \n",
              "4  773.920       1  "
            ]
          },
          "metadata": {
            "tags": []
          },
          "execution_count": 22
        }
      ]
    },
    {
      "cell_type": "code",
      "metadata": {
        "id": "UCSZrwx9ruV_"
      },
      "source": [
        "X=df.iloc[:,:-1].values\n",
        "y=df.iloc[:,-1].values"
      ],
      "execution_count": null,
      "outputs": []
    },
    {
      "cell_type": "code",
      "metadata": {
        "id": "riRKNxZhruWI",
        "outputId": "b278f9ef-1e8c-4a06-fc8f-f22956a03560"
      },
      "source": [
        "X.shape, print(y.shape)"
      ],
      "execution_count": null,
      "outputs": [
        {
          "output_type": "stream",
          "text": [
            "(116,)\n"
          ],
          "name": "stdout"
        },
        {
          "output_type": "execute_result",
          "data": {
            "text/plain": [
              "((116, 9), None)"
            ]
          },
          "metadata": {
            "tags": []
          },
          "execution_count": 26
        }
      ]
    },
    {
      "cell_type": "code",
      "metadata": {
        "id": "YV6T2pBjruWS"
      },
      "source": [
        "#split into training and test set\n",
        "from sklearn.model_selection import train_test_split\n",
        "X_train,X_test,y_train,y_test=train_test_split(X,y,test_size=0.2)"
      ],
      "execution_count": null,
      "outputs": []
    },
    {
      "cell_type": "code",
      "metadata": {
        "id": "JFqVA434ruWY"
      },
      "source": [
        "#Feature scalling\n",
        "from sklearn.preprocessing import StandardScaler\n",
        "sc=StandardScaler()\n",
        "X_train=sc.fit_transform(X_train)\n",
        "X_test=sc.transform(X_test)"
      ],
      "execution_count": null,
      "outputs": []
    },
    {
      "cell_type": "code",
      "metadata": {
        "id": "mIa81e28ruWe",
        "outputId": "ffd263b2-7837-423a-9a3c-599ef77bbe03"
      },
      "source": [
        "from sklearn.linear_model import LogisticRegression \n",
        "Logistic=LogisticRegression()\n",
        "Logistic.fit(X_train,y_train)"
      ],
      "execution_count": null,
      "outputs": [
        {
          "output_type": "execute_result",
          "data": {
            "text/plain": [
              "LogisticRegression(C=1.0, class_weight=None, dual=False, fit_intercept=True,\n",
              "          intercept_scaling=1, max_iter=100, multi_class='ovr', n_jobs=1,\n",
              "          penalty='l2', random_state=None, solver='liblinear', tol=0.0001,\n",
              "          verbose=0, warm_start=False)"
            ]
          },
          "metadata": {
            "tags": []
          },
          "execution_count": 29
        }
      ]
    },
    {
      "cell_type": "code",
      "metadata": {
        "id": "vkl3MmjwruWj"
      },
      "source": [
        "#Prediction\n",
        "y_pred=Logistic.predict(X_test)"
      ],
      "execution_count": null,
      "outputs": []
    },
    {
      "cell_type": "code",
      "metadata": {
        "id": "7hmaeGZGruWo"
      },
      "source": [
        "#score logistic regression\n",
        "accuracy_score(y_test,y_pred)"
      ],
      "execution_count": null,
      "outputs": []
    },
    {
      "cell_type": "code",
      "metadata": {
        "id": "RxBUk8RoruWr",
        "outputId": "631da313-9f6d-4f17-d456-dd1b74bb4fb8"
      },
      "source": [
        "from sklearn.metrics import accuracy_score,confusion_matrix\n",
        "cm=confusion_matrix(y_test,y_pred)\n",
        "print(cm)\n",
        "#score=accuracy_score(y_test,y_pred)\n",
        "#k_fold cross_validation \n",
        "from sklearn.model_selection import cross_val_score\n",
        "scores=cross_val_score(Logistic,X=X_train,y=y_train,cv=10)"
      ],
      "execution_count": null,
      "outputs": [
        {
          "output_type": "stream",
          "text": [
            "[[ 6  4]\n",
            " [ 2 12]]\n"
          ],
          "name": "stdout"
        }
      ]
    },
    {
      "cell_type": "code",
      "metadata": {
        "id": "2WmH7-EjruWv",
        "outputId": "702292d9-98ca-4a0d-880b-4db8406aab95"
      },
      "source": [
        "#score logistic regression\n",
        "accuracy_score(y_test,y_pred)"
      ],
      "execution_count": null,
      "outputs": [
        {
          "output_type": "execute_result",
          "data": {
            "text/plain": [
              "0.75"
            ]
          },
          "metadata": {
            "tags": []
          },
          "execution_count": 33
        }
      ]
    },
    {
      "cell_type": "code",
      "metadata": {
        "id": "QdHKGwA8ruW0",
        "outputId": "b9481f71-82f9-47ea-e8dd-0f6e9a718506"
      },
      "source": [
        "Logistic.get_params"
      ],
      "execution_count": null,
      "outputs": [
        {
          "output_type": "execute_result",
          "data": {
            "text/plain": [
              "<bound method BaseEstimator.get_params of LogisticRegression(C=1.0, class_weight=None, dual=False, fit_intercept=True,\n",
              "          intercept_scaling=1, max_iter=100, multi_class='ovr', n_jobs=1,\n",
              "          penalty='l2', random_state=None, solver='liblinear', tol=0.0001,\n",
              "          verbose=0, warm_start=False)>"
            ]
          },
          "metadata": {
            "tags": []
          },
          "execution_count": 34
        }
      ]
    },
    {
      "cell_type": "code",
      "metadata": {
        "id": "S0wGOg_lruW6",
        "outputId": "ffa3cd2c-9e65-474b-d8a1-74f86d41e134"
      },
      "source": [
        "\n",
        "print('Standard deviation: ',scores.std(),'accuracy : ',scores.mean())"
      ],
      "execution_count": null,
      "outputs": [
        {
          "output_type": "stream",
          "text": [
            "Standard deviation:  0.09216865914395773 accuracy :  0.7366666666666666\n"
          ],
          "name": "stdout"
        }
      ]
    },
    {
      "cell_type": "code",
      "metadata": {
        "id": "geZqLnisruXA"
      },
      "source": [
        "from sklearn.model_selection import GridSearchCV\n",
        "C_grid=np.arange(10,20,0.001)\n",
        "penalty=['l1','l2']\n",
        "parameters=[{'C':C_grid,'penalty':penalty}]\n",
        "grid_searchcv=GridSearchCV(estimator=Logistic,param_grid=parameters,cv=10,scoring='accuracy',n_jobs=-1)\n",
        "best_model=grid_searchcv.fit(X_train,y_train)"
      ],
      "execution_count": null,
      "outputs": []
    },
    {
      "cell_type": "code",
      "metadata": {
        "id": "ysRfcxVxruXD",
        "outputId": "cef39613-2bde-476c-8af7-fed001ea7c1f"
      },
      "source": [
        "\n",
        "print('our best hyperparameters: ', best_model.best_params_,'best_score ',best_model.best_score_)"
      ],
      "execution_count": null,
      "outputs": [
        {
          "output_type": "stream",
          "text": [
            "our best hyperparameters:  {'C': 10.0, 'penalty': 'l1'} best_score  0.7391304347826086\n"
          ],
          "name": "stdout"
        }
      ]
    },
    {
      "cell_type": "code",
      "metadata": {
        "id": "nOxH6oGXruXG",
        "outputId": "299c8152-28a2-42eb-dd4f-66bd98415fbd"
      },
      "source": [
        "df.head()"
      ],
      "execution_count": null,
      "outputs": [
        {
          "output_type": "execute_result",
          "data": {
            "text/html": [
              "<div>\n",
              "<style scoped>\n",
              "    .dataframe tbody tr th:only-of-type {\n",
              "        vertical-align: middle;\n",
              "    }\n",
              "\n",
              "    .dataframe tbody tr th {\n",
              "        vertical-align: top;\n",
              "    }\n",
              "\n",
              "    .dataframe thead th {\n",
              "        text-align: right;\n",
              "    }\n",
              "</style>\n",
              "<table border=\"1\" class=\"dataframe\">\n",
              "  <thead>\n",
              "    <tr style=\"text-align: right;\">\n",
              "      <th></th>\n",
              "      <th>Age</th>\n",
              "      <th>BMI</th>\n",
              "      <th>Glucose</th>\n",
              "      <th>Insulin</th>\n",
              "      <th>HOMA</th>\n",
              "      <th>Leptin</th>\n",
              "      <th>Adiponectin</th>\n",
              "      <th>Resistin</th>\n",
              "      <th>MCP.1</th>\n",
              "      <th>target</th>\n",
              "    </tr>\n",
              "  </thead>\n",
              "  <tbody>\n",
              "    <tr>\n",
              "      <th>0</th>\n",
              "      <td>48</td>\n",
              "      <td>23.500000</td>\n",
              "      <td>70</td>\n",
              "      <td>2.707</td>\n",
              "      <td>0.467409</td>\n",
              "      <td>8.8071</td>\n",
              "      <td>9.702400</td>\n",
              "      <td>7.99585</td>\n",
              "      <td>417.114</td>\n",
              "      <td>1</td>\n",
              "    </tr>\n",
              "    <tr>\n",
              "      <th>1</th>\n",
              "      <td>83</td>\n",
              "      <td>20.690495</td>\n",
              "      <td>92</td>\n",
              "      <td>3.115</td>\n",
              "      <td>0.706897</td>\n",
              "      <td>8.8438</td>\n",
              "      <td>5.429285</td>\n",
              "      <td>4.06405</td>\n",
              "      <td>468.786</td>\n",
              "      <td>1</td>\n",
              "    </tr>\n",
              "    <tr>\n",
              "      <th>2</th>\n",
              "      <td>82</td>\n",
              "      <td>23.124670</td>\n",
              "      <td>91</td>\n",
              "      <td>4.498</td>\n",
              "      <td>1.009651</td>\n",
              "      <td>17.9393</td>\n",
              "      <td>22.432040</td>\n",
              "      <td>9.27715</td>\n",
              "      <td>554.697</td>\n",
              "      <td>1</td>\n",
              "    </tr>\n",
              "    <tr>\n",
              "      <th>3</th>\n",
              "      <td>68</td>\n",
              "      <td>21.367521</td>\n",
              "      <td>77</td>\n",
              "      <td>3.226</td>\n",
              "      <td>0.612725</td>\n",
              "      <td>9.8827</td>\n",
              "      <td>7.169560</td>\n",
              "      <td>12.76600</td>\n",
              "      <td>928.220</td>\n",
              "      <td>1</td>\n",
              "    </tr>\n",
              "    <tr>\n",
              "      <th>4</th>\n",
              "      <td>86</td>\n",
              "      <td>21.111111</td>\n",
              "      <td>92</td>\n",
              "      <td>3.549</td>\n",
              "      <td>0.805386</td>\n",
              "      <td>6.6994</td>\n",
              "      <td>4.819240</td>\n",
              "      <td>10.57635</td>\n",
              "      <td>773.920</td>\n",
              "      <td>1</td>\n",
              "    </tr>\n",
              "  </tbody>\n",
              "</table>\n",
              "</div>"
            ],
            "text/plain": [
              "   Age        BMI  Glucose  Insulin      HOMA   Leptin  Adiponectin  Resistin  \\\n",
              "0   48  23.500000       70    2.707  0.467409   8.8071     9.702400   7.99585   \n",
              "1   83  20.690495       92    3.115  0.706897   8.8438     5.429285   4.06405   \n",
              "2   82  23.124670       91    4.498  1.009651  17.9393    22.432040   9.27715   \n",
              "3   68  21.367521       77    3.226  0.612725   9.8827     7.169560  12.76600   \n",
              "4   86  21.111111       92    3.549  0.805386   6.6994     4.819240  10.57635   \n",
              "\n",
              "     MCP.1  target  \n",
              "0  417.114       1  \n",
              "1  468.786       1  \n",
              "2  554.697       1  \n",
              "3  928.220       1  \n",
              "4  773.920       1  "
            ]
          },
          "metadata": {
            "tags": []
          },
          "execution_count": 34
        }
      ]
    },
    {
      "cell_type": "code",
      "metadata": {
        "id": "CpA-QqA-ruXK"
      },
      "source": [
        "from sklearn.neighbors import KNeighborsClassifier\n",
        "knn_classifier=KNeighborsClassifier(n_neighbors=5,p=2,metric='minkowski')"
      ],
      "execution_count": null,
      "outputs": []
    },
    {
      "cell_type": "code",
      "metadata": {
        "id": "6LQyApBlruXL",
        "outputId": "314fc10c-5dc3-4ee9-f455-b4919c9432c5"
      },
      "source": [
        "knn_classifier.fit(X_train,y_train)"
      ],
      "execution_count": null,
      "outputs": [
        {
          "output_type": "execute_result",
          "data": {
            "text/plain": [
              "KNeighborsClassifier(algorithm='auto', leaf_size=30, metric='minkowski',\n",
              "           metric_params=None, n_jobs=1, n_neighbors=5, p=2,\n",
              "           weights='uniform')"
            ]
          },
          "metadata": {
            "tags": []
          },
          "execution_count": 39
        }
      ]
    },
    {
      "cell_type": "code",
      "metadata": {
        "id": "o0m-2NVqruXO"
      },
      "source": [
        "y_knn_pred=knn_classifier.predict(X_test)"
      ],
      "execution_count": null,
      "outputs": []
    },
    {
      "cell_type": "code",
      "metadata": {
        "id": "weH0m4iPruXP"
      },
      "source": [
        "from sklearn.metrics import accuracy_score, confusion_matrix\n",
        "score_knn=accuracy_score(y_test,y_knn_pred)\n",
        "cm_knn=confusion_matrix(y_test,y_knn_pred)"
      ],
      "execution_count": null,
      "outputs": []
    },
    {
      "cell_type": "code",
      "metadata": {
        "id": "BD9M2imhruXS",
        "outputId": "30907a83-19b6-4bc2-d2a4-c242e2eac6cd"
      },
      "source": [
        "print(score)\n",
        "cm_knn"
      ],
      "execution_count": null,
      "outputs": [
        {
          "output_type": "stream",
          "text": [
            "0.75\n"
          ],
          "name": "stdout"
        },
        {
          "output_type": "execute_result",
          "data": {
            "text/plain": [
              "array([[ 6,  4],\n",
              "       [ 2, 12]], dtype=int64)"
            ]
          },
          "metadata": {
            "tags": []
          },
          "execution_count": 44
        }
      ]
    },
    {
      "cell_type": "code",
      "metadata": {
        "id": "FUZEmAgiruXW"
      },
      "source": [
        "from sklearn.svm import SVC "
      ],
      "execution_count": null,
      "outputs": []
    },
    {
      "cell_type": "code",
      "metadata": {
        "id": "QJok3JloruXY"
      },
      "source": [
        "svc_classifier=SVC(kernel='linear')"
      ],
      "execution_count": null,
      "outputs": []
    },
    {
      "cell_type": "code",
      "metadata": {
        "id": "o5RMjb9DruXc",
        "outputId": "fe97324a-96e7-450c-f615-4b237269b96a"
      },
      "source": [
        "svc_classifier.fit(X_train,y_train)\n",
        "y_svc_pred=svc_classifier.predict(X_test)\n",
        "accuracy_score(y_test,y_svc_pred)"
      ],
      "execution_count": null,
      "outputs": [
        {
          "output_type": "execute_result",
          "data": {
            "text/plain": [
              "0.75"
            ]
          },
          "metadata": {
            "tags": []
          },
          "execution_count": 47
        }
      ]
    },
    {
      "cell_type": "code",
      "metadata": {
        "id": "YV3VqfsHruXd",
        "outputId": "e5c1875a-2d9b-4278-b826-701581ea1d99"
      },
      "source": [
        "from keras.models import Sequential\n",
        "from keras.layers import Dense\n",
        "from keras.layers import Dropout\n",
        "\n",
        "sequential=Sequential()\n",
        "sequential.add(Dense(units=6,activation='relu',kernel_initializer='uniform',input_dim=9))\n",
        "\n",
        "#ajout de la deuxiième couche cachée\n",
        "sequential.add(Dense(units=6,activation='relu',kernel_initializer='uniform'))\n",
        "\n",
        "#Ajout de la couche de sortie\n",
        "sequential.add(Dense(units=1,activation='sigmoid',kernel_initializer='uniform'))\n",
        "#Compiler le RN\n",
        "sequential.compile(optimizer='adam',loss='binary_crossentropy',metrics=['accuracy'])\n",
        "#Entrainement du RN\n",
        "sequential.fit(X_train,y_train,batch_size=10,epochs=100)"
      ],
      "execution_count": null,
      "outputs": [
        {
          "output_type": "stream",
          "text": [
            "C:\\Users\\Idriss\\AppData\\Local\\Continuum\\anaconda3\\envs\\tensorflow\\lib\\site-packages\\h5py\\__init__.py:36: FutureWarning: Conversion of the second argument of issubdtype from `float` to `np.floating` is deprecated. In future, it will be treated as `np.float64 == np.dtype(float).type`.\n",
            "  from ._conv import register_converters as _register_converters\n",
            "Using TensorFlow backend.\n"
          ],
          "name": "stderr"
        },
        {
          "output_type": "stream",
          "text": [
            "Epoch 1/100\n",
            "92/92 [==============================] - 1s 9ms/step - loss: 0.6932 - acc: 0.4348\n",
            "Epoch 2/100\n",
            "92/92 [==============================] - 0s 119us/step - loss: 0.6931 - acc: 0.5435\n",
            "Epoch 3/100\n",
            "92/92 [==============================] - 0s 109us/step - loss: 0.6930 - acc: 0.5435\n",
            "Epoch 4/100\n",
            "92/92 [==============================] - 0s 108us/step - loss: 0.6928 - acc: 0.5435\n",
            "Epoch 5/100\n",
            "92/92 [==============================] - 0s 108us/step - loss: 0.6924 - acc: 0.5435\n",
            "Epoch 6/100\n",
            "92/92 [==============================] - 0s 108us/step - loss: 0.6919 - acc: 0.5435\n",
            "Epoch 7/100\n",
            "92/92 [==============================] - 0s 98us/step - loss: 0.6912 - acc: 0.5435\n",
            "Epoch 8/100\n",
            "92/92 [==============================] - 0s 119us/step - loss: 0.6897 - acc: 0.5435\n",
            "Epoch 9/100\n",
            "92/92 [==============================] - 0s 97us/step - loss: 0.6880 - acc: 0.5435\n",
            "Epoch 10/100\n",
            "92/92 [==============================] - 0s 119us/step - loss: 0.6860 - acc: 0.5435\n",
            "Epoch 11/100\n",
            "92/92 [==============================] - 0s 119us/step - loss: 0.6823 - acc: 0.5435\n",
            "Epoch 12/100\n",
            "92/92 [==============================] - 0s 97us/step - loss: 0.6776 - acc: 0.5435\n",
            "Epoch 13/100\n",
            "92/92 [==============================] - 0s 98us/step - loss: 0.6712 - acc: 0.5435\n",
            "Epoch 14/100\n",
            "92/92 [==============================] - 0s 87us/step - loss: 0.6649 - acc: 0.6304\n",
            "Epoch 15/100\n",
            "92/92 [==============================] - 0s 108us/step - loss: 0.6564 - acc: 0.6630\n",
            "Epoch 16/100\n",
            "92/92 [==============================] - 0s 119us/step - loss: 0.6476 - acc: 0.6957\n",
            "Epoch 17/100\n",
            "92/92 [==============================] - 0s 76us/step - loss: 0.6362 - acc: 0.7391\n",
            "Epoch 18/100\n",
            "92/92 [==============================] - 0s 108us/step - loss: 0.6248 - acc: 0.7500\n",
            "Epoch 19/100\n",
            "92/92 [==============================] - 0s 98us/step - loss: 0.6141 - acc: 0.7717\n",
            "Epoch 20/100\n",
            "92/92 [==============================] - 0s 87us/step - loss: 0.6020 - acc: 0.7717\n",
            "Epoch 21/100\n",
            "92/92 [==============================] - 0s 108us/step - loss: 0.5919 - acc: 0.7609\n",
            "Epoch 22/100\n",
            "92/92 [==============================] - 0s 87us/step - loss: 0.5814 - acc: 0.7826\n",
            "Epoch 23/100\n",
            "92/92 [==============================] - 0s 98us/step - loss: 0.5720 - acc: 0.7826\n",
            "Epoch 24/100\n",
            "92/92 [==============================] - 0s 119us/step - loss: 0.5634 - acc: 0.7935\n",
            "Epoch 25/100\n",
            "92/92 [==============================] - 0s 76us/step - loss: 0.5547 - acc: 0.7826\n",
            "Epoch 26/100\n",
            "92/92 [==============================] - 0s 108us/step - loss: 0.5478 - acc: 0.7826\n",
            "Epoch 27/100\n",
            "92/92 [==============================] - 0s 76us/step - loss: 0.5405 - acc: 0.7826\n",
            "Epoch 28/100\n",
            "92/92 [==============================] - 0s 108us/step - loss: 0.5332 - acc: 0.7826\n",
            "Epoch 29/100\n",
            "92/92 [==============================] - 0s 108us/step - loss: 0.5267 - acc: 0.7826\n",
            "Epoch 30/100\n",
            "92/92 [==============================] - 0s 76us/step - loss: 0.5200 - acc: 0.8043\n",
            "Epoch 31/100\n",
            "92/92 [==============================] - 0s 108us/step - loss: 0.5136 - acc: 0.8043\n",
            "Epoch 32/100\n",
            "92/92 [==============================] - 0s 87us/step - loss: 0.5085 - acc: 0.7826\n",
            "Epoch 33/100\n",
            "92/92 [==============================] - 0s 98us/step - loss: 0.5043 - acc: 0.7826\n",
            "Epoch 34/100\n",
            "92/92 [==============================] - 0s 108us/step - loss: 0.4985 - acc: 0.7826\n",
            "Epoch 35/100\n",
            "92/92 [==============================] - 0s 87us/step - loss: 0.4940 - acc: 0.8043\n",
            "Epoch 36/100\n",
            "92/92 [==============================] - 0s 108us/step - loss: 0.4898 - acc: 0.7717\n",
            "Epoch 37/100\n",
            "92/92 [==============================] - 0s 76us/step - loss: 0.4837 - acc: 0.7717\n",
            "Epoch 38/100\n",
            "92/92 [==============================] - 0s 108us/step - loss: 0.4791 - acc: 0.7935\n",
            "Epoch 39/100\n",
            "92/92 [==============================] - 0s 87us/step - loss: 0.4743 - acc: 0.8043\n",
            "Epoch 40/100\n",
            "92/92 [==============================] - 0s 87us/step - loss: 0.4701 - acc: 0.8043\n",
            "Epoch 41/100\n",
            "92/92 [==============================] - 0s 130us/step - loss: 0.4663 - acc: 0.7935\n",
            "Epoch 42/100\n",
            "92/92 [==============================] - 0s 87us/step - loss: 0.4627 - acc: 0.8043\n",
            "Epoch 43/100\n",
            "92/92 [==============================] - 0s 76us/step - loss: 0.4596 - acc: 0.8043\n",
            "Epoch 44/100\n",
            "92/92 [==============================] - 0s 108us/step - loss: 0.4551 - acc: 0.8261\n",
            "Epoch 45/100\n",
            "92/92 [==============================] - 0s 76us/step - loss: 0.4533 - acc: 0.8152\n",
            "Epoch 46/100\n",
            "92/92 [==============================] - 0s 108us/step - loss: 0.4502 - acc: 0.8152\n",
            "Epoch 47/100\n",
            "92/92 [==============================] - 0s 87us/step - loss: 0.4482 - acc: 0.8152\n",
            "Epoch 48/100\n",
            "92/92 [==============================] - 0s 108us/step - loss: 0.4453 - acc: 0.8043\n",
            "Epoch 49/100\n",
            "92/92 [==============================] - 0s 87us/step - loss: 0.4437 - acc: 0.8043\n",
            "Epoch 50/100\n",
            "92/92 [==============================] - 0s 76us/step - loss: 0.4413 - acc: 0.8152\n",
            "Epoch 51/100\n",
            "92/92 [==============================] - 0s 87us/step - loss: 0.4388 - acc: 0.8261\n",
            "Epoch 52/100\n",
            "92/92 [==============================] - 0s 87us/step - loss: 0.4369 - acc: 0.8261\n",
            "Epoch 53/100\n",
            "92/92 [==============================] - 0s 76us/step - loss: 0.4349 - acc: 0.8261\n",
            "Epoch 54/100\n",
            "92/92 [==============================] - 0s 87us/step - loss: 0.4331 - acc: 0.8261\n",
            "Epoch 55/100\n",
            "92/92 [==============================] - 0s 98us/step - loss: 0.4316 - acc: 0.8261\n",
            "Epoch 56/100\n",
            "92/92 [==============================] - 0s 119us/step - loss: 0.4295 - acc: 0.8370\n",
            "Epoch 57/100\n",
            "92/92 [==============================] - 0s 98us/step - loss: 0.4277 - acc: 0.8370\n",
            "Epoch 58/100\n",
            "92/92 [==============================] - 0s 98us/step - loss: 0.4267 - acc: 0.8152\n",
            "Epoch 59/100\n",
            "92/92 [==============================] - 0s 87us/step - loss: 0.4259 - acc: 0.8043\n",
            "Epoch 60/100\n",
            "92/92 [==============================] - 0s 98us/step - loss: 0.4244 - acc: 0.8043\n",
            "Epoch 61/100\n",
            "92/92 [==============================] - 0s 87us/step - loss: 0.4233 - acc: 0.8043\n",
            "Epoch 62/100\n",
            "92/92 [==============================] - 0s 98us/step - loss: 0.4209 - acc: 0.8261\n",
            "Epoch 63/100\n",
            "92/92 [==============================] - 0s 87us/step - loss: 0.4192 - acc: 0.8478\n",
            "Epoch 64/100\n",
            "92/92 [==============================] - 0s 87us/step - loss: 0.4191 - acc: 0.8478\n",
            "Epoch 65/100\n",
            "92/92 [==============================] - 0s 87us/step - loss: 0.4168 - acc: 0.8478\n",
            "Epoch 66/100\n",
            "92/92 [==============================] - 0s 98us/step - loss: 0.4154 - acc: 0.8478\n",
            "Epoch 67/100\n",
            "92/92 [==============================] - 0s 87us/step - loss: 0.4142 - acc: 0.8478\n",
            "Epoch 68/100\n",
            "92/92 [==============================] - 0s 108us/step - loss: 0.4124 - acc: 0.8587\n",
            "Epoch 69/100\n",
            "92/92 [==============================] - 0s 76us/step - loss: 0.4117 - acc: 0.8478\n",
            "Epoch 70/100\n",
            "92/92 [==============================] - 0s 87us/step - loss: 0.4100 - acc: 0.8478\n",
            "Epoch 71/100\n",
            "92/92 [==============================] - 0s 87us/step - loss: 0.4095 - acc: 0.8478\n",
            "Epoch 72/100\n",
            "92/92 [==============================] - 0s 98us/step - loss: 0.4087 - acc: 0.8478\n",
            "Epoch 73/100\n",
            "92/92 [==============================] - 0s 76us/step - loss: 0.4074 - acc: 0.8478\n",
            "Epoch 74/100\n",
            "92/92 [==============================] - 0s 108us/step - loss: 0.4063 - acc: 0.8478\n",
            "Epoch 75/100\n",
            "92/92 [==============================] - 0s 65us/step - loss: 0.4056 - acc: 0.8478\n",
            "Epoch 76/100\n",
            "92/92 [==============================] - 0s 98us/step - loss: 0.4053 - acc: 0.8478\n",
            "Epoch 77/100\n",
            "92/92 [==============================] - 0s 87us/step - loss: 0.4035 - acc: 0.8587\n",
            "Epoch 78/100\n",
            "92/92 [==============================] - 0s 76us/step - loss: 0.4017 - acc: 0.8478\n",
            "Epoch 79/100\n",
            "92/92 [==============================] - 0s 98us/step - loss: 0.4010 - acc: 0.8370\n",
            "Epoch 80/100\n",
            "92/92 [==============================] - 0s 76us/step - loss: 0.3991 - acc: 0.8370\n",
            "Epoch 81/100\n",
            "92/92 [==============================] - 0s 108us/step - loss: 0.3982 - acc: 0.8261\n",
            "Epoch 82/100\n",
            "92/92 [==============================] - 0s 87us/step - loss: 0.3971 - acc: 0.8261\n",
            "Epoch 83/100\n",
            "92/92 [==============================] - 0s 108us/step - loss: 0.3955 - acc: 0.8370\n",
            "Epoch 84/100\n",
            "92/92 [==============================] - 0s 76us/step - loss: 0.3956 - acc: 0.8478\n",
            "Epoch 85/100\n",
            "92/92 [==============================] - 0s 87us/step - loss: 0.3934 - acc: 0.8478\n",
            "Epoch 86/100\n"
          ],
          "name": "stdout"
        },
        {
          "output_type": "stream",
          "text": [
            "92/92 [==============================] - 0s 98us/step - loss: 0.3918 - acc: 0.8370\n",
            "Epoch 87/100\n",
            "92/92 [==============================] - 0s 87us/step - loss: 0.3905 - acc: 0.8370\n",
            "Epoch 88/100\n",
            "92/92 [==============================] - 0s 108us/step - loss: 0.3881 - acc: 0.8370\n",
            "Epoch 89/100\n",
            "92/92 [==============================] - 0s 76us/step - loss: 0.3867 - acc: 0.8370\n",
            "Epoch 90/100\n",
            "92/92 [==============================] - 0s 98us/step - loss: 0.3858 - acc: 0.8370\n",
            "Epoch 91/100\n",
            "92/92 [==============================] - 0s 87us/step - loss: 0.3848 - acc: 0.8478\n",
            "Epoch 92/100\n",
            "92/92 [==============================] - 0s 98us/step - loss: 0.3828 - acc: 0.8370\n",
            "Epoch 93/100\n",
            "92/92 [==============================] - 0s 87us/step - loss: 0.3819 - acc: 0.8370\n",
            "Epoch 94/100\n",
            "92/92 [==============================] - 0s 87us/step - loss: 0.3796 - acc: 0.8370\n",
            "Epoch 95/100\n",
            "92/92 [==============================] - 0s 87us/step - loss: 0.3786 - acc: 0.8370\n",
            "Epoch 96/100\n",
            "92/92 [==============================] - 0s 87us/step - loss: 0.3781 - acc: 0.8370\n",
            "Epoch 97/100\n",
            "92/92 [==============================] - 0s 76us/step - loss: 0.3767 - acc: 0.8370\n",
            "Epoch 98/100\n",
            "92/92 [==============================] - 0s 98us/step - loss: 0.3749 - acc: 0.8370\n",
            "Epoch 99/100\n",
            "92/92 [==============================] - 0s 87us/step - loss: 0.3744 - acc: 0.8478\n",
            "Epoch 100/100\n",
            "92/92 [==============================] - 0s 87us/step - loss: 0.3741 - acc: 0.8478\n"
          ],
          "name": "stdout"
        },
        {
          "output_type": "execute_result",
          "data": {
            "text/plain": [
              "<keras.callbacks.History at 0x21de73d6d30>"
            ]
          },
          "metadata": {
            "tags": []
          },
          "execution_count": 48
        }
      ]
    },
    {
      "cell_type": "code",
      "metadata": {
        "id": "RHanCOA1ruXg"
      },
      "source": [
        "y_pred_ann=(sequential.predict(X_test)>0.5)*1"
      ],
      "execution_count": null,
      "outputs": []
    },
    {
      "cell_type": "code",
      "metadata": {
        "id": "_diSJ9QEruXi",
        "outputId": "3864e5a5-ee44-43b3-9512-0ad963c2aa15"
      },
      "source": [
        "cm_ann=confusion_matrix(y_test,y_pred_ann)\n",
        "cm_ann"
      ],
      "execution_count": null,
      "outputs": [
        {
          "output_type": "execute_result",
          "data": {
            "text/plain": [
              "array([[ 7,  3],\n",
              "       [ 3, 11]], dtype=int64)"
            ]
          },
          "metadata": {
            "tags": []
          },
          "execution_count": 50
        }
      ]
    },
    {
      "cell_type": "code",
      "metadata": {
        "id": "b5Gk6Pn4ruXo"
      },
      "source": [
        "acc_ann=accuracy_score(y_test,y_pred_ann)"
      ],
      "execution_count": null,
      "outputs": []
    },
    {
      "cell_type": "code",
      "metadata": {
        "id": "HRVo-CeTruXs",
        "outputId": "c1814a91-00f0-450a-98ab-dafaa12913f9"
      },
      "source": [
        "acc_ann"
      ],
      "execution_count": null,
      "outputs": [
        {
          "output_type": "execute_result",
          "data": {
            "text/plain": [
              "0.75"
            ]
          },
          "metadata": {
            "tags": []
          },
          "execution_count": 52
        }
      ]
    },
    {
      "cell_type": "code",
      "metadata": {
        "id": "4GkQSgn5ruXv"
      },
      "source": [
        ""
      ],
      "execution_count": null,
      "outputs": []
    }
  ]
}